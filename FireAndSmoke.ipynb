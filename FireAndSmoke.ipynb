{
 "cells": [
  {
   "cell_type": "code",
   "execution_count": 17,
   "id": "91c791b6",
   "metadata": {},
   "outputs": [
    {
     "name": "stdout",
     "output_type": "stream",
     "text": [
      "usage: conda [-h] [--no-plugins] [-V] COMMAND ...\n",
      "conda: error: argument COMMAND: invalid choice: 'activate' (choose from 'clean', 'compare', 'config', 'create', 'info', 'init', 'install', 'list', 'notices', 'package', 'remove', 'uninstall', 'rename', 'run', 'search', 'update', 'upgrade', 'build', 'content-trust', 'convert', 'debug', 'develop', 'doctor', 'index', 'inspect', 'metapackage', 'render', 'skeleton', 'token', 'pack', 'verify', 'env', 'repo', 'server')\n",
      "\n",
      "Note: you may need to restart the kernel to use updated packages.\n"
     ]
    }
   ],
   "source": [
    "conda activate tensorflow"
   ]
  },
  {
   "cell_type": "code",
   "execution_count": 2,
   "id": "5a2b3f87",
   "metadata": {},
   "outputs": [
    {
     "name": "stdout",
     "output_type": "stream",
     "text": [
      "Requirement already satisfied: numpy in /Users/shalinishah27/anaconda3/envs/tensorflow/lib/python3.10/site-packages (1.21.5)\n",
      "Collecting numpy\n",
      "  Obtaining dependency information for numpy from https://files.pythonhosted.org/packages/2f/ac/be1f2767b7222347d2fefc18d8d58e9febfd9919190cc6fbd8a4d22d6eab/numpy-1.26.2-cp310-cp310-macosx_11_0_arm64.whl.metadata\n",
      "  Downloading numpy-1.26.2-cp310-cp310-macosx_11_0_arm64.whl.metadata (61 kB)\n",
      "\u001b[2K     \u001b[90m━━━━━━━━━━━━━━━━━━━━━━━━━━━━━━━━━━━━━━━━\u001b[0m \u001b[32m61.2/61.2 kB\u001b[0m \u001b[31m3.0 MB/s\u001b[0m eta \u001b[36m0:00:00\u001b[0m\n",
      "\u001b[?25hDownloading numpy-1.26.2-cp310-cp310-macosx_11_0_arm64.whl (14.0 MB)\n",
      "\u001b[2K   \u001b[90m━━━━━━━━━━━━━━━━━━━━━━━━━━━━━━━━━━━━━━━━\u001b[0m \u001b[32m14.0/14.0 MB\u001b[0m \u001b[31m8.2 MB/s\u001b[0m eta \u001b[36m0:00:00\u001b[0m00:01\u001b[0m00:01\u001b[0mm\n",
      "\u001b[?25hInstalling collected packages: numpy\n",
      "  Attempting uninstall: numpy\n",
      "    Found existing installation: numpy 1.21.5\n",
      "    Uninstalling numpy-1.21.5:\n",
      "      Successfully uninstalled numpy-1.21.5\n",
      "\u001b[31mERROR: pip's dependency resolver does not currently take into account all the packages that are installed. This behaviour is the source of the following dependency conflicts.\n",
      "tensorflow 2.11.0 requires libclang>=13.0.0, which is not installed.\n",
      "tensorflow 2.11.0 requires protobuf<3.20,>=3.9.2, but you have protobuf 3.20.3 which is incompatible.\u001b[0m\u001b[31m\n",
      "\u001b[0mSuccessfully installed numpy-1.26.1\n",
      "Note: you may need to restart the kernel to use updated packages.\n"
     ]
    }
   ],
   "source": [
    "pip install --upgrade numpy"
   ]
  },
  {
   "cell_type": "code",
   "execution_count": 2,
   "id": "b2af30d4",
   "metadata": {},
   "outputs": [
    {
     "name": "stdout",
     "output_type": "stream",
     "text": [
      "Pandas version: 2.1.1\n",
      "NumPy version: 1.26.2\n"
     ]
    }
   ],
   "source": [
    "import pandas as pd\n",
    "import numpy as np\n",
    "\n",
    "print(\"Pandas version:\", pd.__version__)\n",
    "print(\"NumPy version:\", np.__version__)"
   ]
  },
  {
   "cell_type": "code",
   "execution_count": 3,
   "id": "efd23828",
   "metadata": {},
   "outputs": [],
   "source": [
    "import torch\n",
    "import torchvision\n",
    "from torchvision.datasets import ImageFolder\n",
    "from torch.utils.data import Dataset, random_split, DataLoader\n",
    "from torch import nn\n",
    "import torchvision.transforms as transforms \n",
    "from torchvision.utils import make_grid\n",
    "import matplotlib.pyplot as plt\n",
    "from sklearn.metrics import accuracy_score,classification_report,confusion_matrix\n",
    "import seaborn as sn\n",
    "import numpy as np\n",
    "import pandas as pd\n",
    "import os\n",
    "from PIL import Image"
   ]
  },
  {
   "cell_type": "code",
   "execution_count": 4,
   "id": "3a1625e8",
   "metadata": {},
   "outputs": [],
   "source": [
    "model_path = \"/Users/shalinishah27/Desktop/FinalYearProject/fireandsmoke(final)/model/model.path\"\n",
    "training_dataset = \"/Users/shalinishah27/Desktop/FinalYearProject/fireandsmoke(final)/Final_Dataset\""
   ]
  },
  {
   "cell_type": "code",
   "execution_count": 5,
   "id": "a7563fa8",
   "metadata": {},
   "outputs": [
    {
     "name": "stdout",
     "output_type": "stream",
     "text": [
      "number of images: 497\n",
      "number of classes: 3\n",
      "['Images_fire', 'Images_neutral', 'Images_smoke']\n"
     ]
    }
   ],
   "source": [
    "dataset = ImageFolder(training_dataset)\n",
    "print(f'number of images: {len(dataset)}')\n",
    "print(f'number of classes: {len(dataset.classes)}')\n",
    "class_names = dataset.classes\n",
    "print(class_names)\n",
    "class_dictionary = {}\n",
    "for i in range(len(dataset.classes)):\n",
    "    class_dictionary[class_names[i]] = 0\n",
    "\n",
    "for i in range(len(dataset)):\n",
    "    img, img_label = dataset[i]\n",
    "    class_dictionary[class_names[img_label]] += 1\n"
   ]
  },
  {
   "cell_type": "code",
   "execution_count": 6,
   "id": "3010de1b",
   "metadata": {},
   "outputs": [
    {
     "name": "stdout",
     "output_type": "stream",
     "text": [
      "Number of Images Per Classes\n",
      "----------------------------\n"
     ]
    },
    {
     "data": {
      "text/plain": [
       "{'Images_fire': 163, 'Images_neutral': 226, 'Images_smoke': 108}"
      ]
     },
     "execution_count": 6,
     "metadata": {},
     "output_type": "execute_result"
    }
   ],
   "source": [
    "print(\"Number of Images Per Classes\")\n",
    "print(\"----------------------------\")\n",
    "class_dictionary"
   ]
  },
  {
   "cell_type": "code",
   "execution_count": 7,
   "id": "654d7cbe",
   "metadata": {},
   "outputs": [],
   "source": [
    "KeyList=list(class_dictionary.keys())\n",
    "ValueList=list(class_dictionary.values())"
   ]
  },
  {
   "cell_type": "code",
   "execution_count": 8,
   "id": "021133ea",
   "metadata": {},
   "outputs": [
    {
     "data": {
      "text/plain": [
       "Text(0, 0.5, 'Number of Images')"
      ]
     },
     "execution_count": 8,
     "metadata": {},
     "output_type": "execute_result"
    },
    {
     "data": {
      "image/png": "[encoded data removed]",
      "text/plain": [
       "<Figure size 640x480 with 1 Axes>"
      ]
     },
     "metadata": {},
     "output_type": "display_data"
    }
   ],
   "source": [
    "plt.bar(KeyList,ValueList)\n",
    "plt.xlabel(\"Dataset Classes\")\n",
    "plt.ylabel(\"Number of Images\")"
   ]
  },
  {
   "cell_type": "code",
   "execution_count": 9,
   "id": "057f80f6",
   "metadata": {},
   "outputs": [
    {
     "name": "stdout",
     "output_type": "stream",
     "text": [
      "124\n",
      "373\n"
     ]
    }
   ],
   "source": [
    "test_image_percentage = 0.25\n",
    "test_dataset_size = int(len(dataset)*test_image_percentage)\n",
    "print(test_dataset_size)\n",
    "train_dataset_size = len(dataset) - test_dataset_size\n",
    "train_dataset_split, test_dataset_split = random_split(dataset, [train_dataset_size, test_dataset_size])\n",
    "print(len(train_dataset_split))"
   ]
  },
  {
   "cell_type": "code",
   "execution_count": 10,
   "id": "b3d40e1a",
   "metadata": {},
   "outputs": [],
   "source": [
    "class FireAndSmaoke(Dataset):\n",
    "    \n",
    "    def __init__(self, ds, transform=None):\n",
    "        self.ds = ds\n",
    "        self.transform = transform\n",
    "        \n",
    "    def __len__(self):\n",
    "        return len(self.ds)\n",
    "    \n",
    "    def __getitem__(self, idx):\n",
    "        img, label = self.ds[idx]\n",
    "        if self.transform:\n",
    "            img = self.transform(img)  \n",
    "            return img, label"
   ]
  },
  {
   "cell_type": "code",
   "execution_count": 11,
   "id": "14090a47",
   "metadata": {},
   "outputs": [],
   "source": [
    "batch_size = 100\n",
    "\n",
    "train_transform = transforms.Compose([\n",
    "   transforms.Resize((50,50)),\n",
    "    transforms.ToTensor()    \n",
    "])\n",
    "\n",
    "\n",
    "test_transform = transforms.Compose([\n",
    "    transforms.Resize((50,50)), \n",
    "    transforms.ToTensor()\n",
    "])"
   ]
  },
  {
   "cell_type": "code",
   "execution_count": 12,
   "id": "8e47f120",
   "metadata": {},
   "outputs": [],
   "source": [
    "train_dataset = FireAndSmaoke(train_dataset_split, train_transform)\n",
    "test_dataset = FireAndSmaoke(test_dataset_split, test_transform)\n",
    "\n",
    "train_dataloader = DataLoader(train_dataset, batch_size, shuffle=True)\n",
    "test_dataloader = DataLoader(test_dataset, batch_size)"
   ]
  },
  {
   "cell_type": "code",
   "execution_count": 13,
   "id": "d1c5670e",
   "metadata": {},
   "outputs": [
    {
     "name": "stdout",
     "output_type": "stream",
     "text": [
      "Label: [1 1 1 2 1 2 2 0 2 1 2 1 1 0 1 1 0 2 0 0 0 0 0 0 2 1 1 2 0 0 1 1 2 0 2 0 1\n",
      " 1 1 2 2 0 1 0 1 1 0 0 0 2 1 0 2 0 1 2 0 0 0 2 1 0 0 1 1 0 1 1 0 1 1 0 2 0\n",
      " 1 1 0 1 1 0 2 2 1 1 1 0 0 2 1 2 1 2 0 1 2 1 1 1 0 0]\n",
      "Class: Images_neutral Images_neutral Images_neutral Images_smoke Images_neutral Images_smoke Images_smoke Images_fire Images_smoke Images_neutral Images_smoke Images_neutral Images_neutral Images_fire Images_neutral Images_neutral Images_fire Images_smoke Images_fire Images_fire Images_fire Images_fire Images_fire Images_fire Images_smoke Images_neutral Images_neutral Images_smoke Images_fire Images_fire Images_neutral Images_neutral Images_smoke Images_fire Images_smoke Images_fire Images_neutral Images_neutral Images_neutral Images_smoke Images_smoke Images_fire Images_neutral Images_fire Images_neutral Images_neutral Images_fire Images_fire Images_fire Images_smoke Images_neutral Images_fire Images_smoke Images_fire Images_neutral Images_smoke Images_fire Images_fire Images_fire Images_smoke Images_neutral Images_fire Images_fire Images_neutral Images_neutral Images_fire Images_neutral Images_neutral Images_fire Images_neutral Images_neutral Images_fire Images_smoke Images_fire Images_neutral Images_neutral Images_fire Images_neutral Images_neutral Images_fire Images_smoke Images_smoke Images_neutral Images_neutral Images_neutral Images_fire Images_fire Images_smoke Images_neutral Images_smoke Images_neutral Images_smoke Images_fire Images_neutral Images_smoke Images_neutral Images_neutral Images_neutral Images_fire Images_fire\n"
     ]
    }
   ],
   "source": [
    "for images,data_label in train_dataloader:\n",
    "    break\n",
    "    \n",
    "print('Label:', data_label.numpy())\n",
    "print('Class:', *np.array([class_names[i] for i in data_label]))\n",
    "\n",
    "im = make_grid(images, nrow=8)  # the default nrow is 8\n",
    "\n",
    "# Inverse normalize the images\n",
    "inv_normalize = transforms.Normalize(\n",
    "    mean=[-0.485/0.229, -0.456/0.224, -0.406/0.225],\n",
    "    std=[1/0.229, 1/0.224, 1/0.225]\n",
    ")\n",
    "im_inv = inv_normalize(im)"
   ]
  },
  {
   "cell_type": "code",
   "execution_count": 14,
   "id": "e844da83",
   "metadata": {},
   "outputs": [],
   "source": [
    "def TrainModel(model,optimizer,dataloader,device):\n",
    "    loss_list = []\n",
    "    acc_list = []\n",
    "    correct = total = 0\n",
    "    for i,(x_train,y_train) in enumerate(dataloader):\n",
    "        x_train = x_train.requires_grad_()\n",
    "        x_train.to(device)\n",
    "        y_train = y_train.to(device)\n",
    "        \n",
    "        \n",
    "        outputs= model(x_train)\n",
    "        criterion = nn.CrossEntropyLoss()\n",
    "        loss = criterion(outputs,y_train)\n",
    "        \n",
    "        # Backprop and optimisation\n",
    "        optimizer.zero_grad()\n",
    "        loss.backward()  \n",
    "        optimizer.step()\n",
    "\n",
    "        \n",
    "        with torch.no_grad():\n",
    "                _,predicted = torch.max(outputs.data,1)\n",
    "                total += y_train.size(0)\n",
    "                correct += (predicted == y_train).sum().item()\n",
    "                accuracy = (correct/total)*100\n",
    "        \n",
    "        loss_list.append(loss.item())          #forward pass\n",
    "        acc_list.append(accuracy)   #Train Accuracy\n",
    "\n",
    "    return loss_list, acc_list"
   ]
  },
  {
   "cell_type": "code",
   "execution_count": 15,
   "id": "252cc2e6",
   "metadata": {},
   "outputs": [],
   "source": [
    "def TestModel(model,dataloader,device):\n",
    "    loss_list = []\n",
    "    acc_list = []\n",
    "    total = correct = 0\n",
    "    predict = []\n",
    "    labels = []\n",
    "    for i,(x_test,y_test) in enumerate(dataloader):\n",
    "        x_test.to(device)\n",
    "        y_test.to(device)\n",
    "        labels.extend(y_test)\n",
    "        with torch.no_grad():\n",
    "         \n",
    "            output = model(x_test)\n",
    "            criterion = nn.CrossEntropyLoss()\n",
    "            loss = criterion(output,y_test)\n",
    "            _,predicted = torch.max(output.data,1)\n",
    "            predict.extend(predicted)\n",
    "            total += y_test.size(0)\n",
    "            correct += (predicted == y_test).sum().item()\n",
    "            accuracy = (correct/total)*100\n",
    "            \n",
    "        loss_list.append(loss.item())\n",
    "        acc_list.append(accuracy)\n",
    "#         print(labels)\n",
    "        \n",
    "    return sum(loss_list)/len(loss_list), sum(acc_list)/len(acc_list),labels,predict"
   ]
  },
  {
   "cell_type": "code",
   "execution_count": 16,
   "id": "39a35da9",
   "metadata": {},
   "outputs": [],
   "source": [
    "class ConvolutionNeuralNetwork(nn.Module):\n",
    "    def __init__(self):\n",
    "        super(ConvolutionNeuralNetwork,self).__init__()\n",
    "        self.network = nn.Sequential(\n",
    "#                                       nn.Conv2d(3, 16, kernel_size=3, stride=1,padding=1,bias=True),\n",
    "#                                       nn.ReLU(inplace=True),\n",
    "#                                       nn.MaxPool2d(kernel_size=3, stride=2),\n",
    "                                     \n",
    "#                                       nn.Conv2d(16, 32, kernel_size=3, stride=1,padding = 1,bias=True), \n",
    "#                                       nn.ReLU(inplace=True),\n",
    "#                                       nn.MaxPool2d(kernel_size=3, stride=2),\n",
    "                                     \n",
    "#                                       nn.Conv2d(32, 32, kernel_size=3, stride=1,padding = 1,bias=True),\n",
    "#                                       nn.ReLU(inplace=True),\n",
    "#                                       nn.MaxPool2d(kernel_size=3, stride=2),\n",
    "                        \n",
    "#                                       nn.Conv2d(32, 64, kernel_size=3, stride=1,padding = 1,bias=True),\n",
    "#                                       nn.ReLU(inplace=True),\n",
    "#                                       nn.MaxPool2d(kernel_size=3, stride=1),\n",
    "                                     \n",
    "#                                       nn.Dropout(p=0.3),\n",
    "#                                       nn.Flatten(),\n",
    "#                                       nn.Linear(32 * 5*5, 196),\n",
    "# #                                       nn.Linear(216, 196),\n",
    "#                                       nn.Linear(196, 5),\n",
    "                                        nn.Conv2d(3, 16, kernel_size=3, stride=1, padding=1,bias=True),\n",
    "                                        nn.ReLU(inplace=True),\n",
    "                                        nn.MaxPool2d(kernel_size=3, stride=2),\n",
    "                                     \n",
    "                                        nn.Conv2d(16, 32, kernel_size=3, stride=1, padding=1,bias=True), \n",
    "                                        nn.ReLU(inplace=True),\n",
    "                                        nn.MaxPool2d(kernel_size=3, stride=2),\n",
    "\n",
    "                                        nn.Conv2d(32, 64, kernel_size=3, stride=1, padding=1,bias=True),\n",
    "                                        nn.ReLU(inplace=True),\n",
    "                                        nn.MaxPool2d(kernel_size=3, stride=2),\n",
    "                        \n",
    "#                                         nn.Conv2d(48, 64, kernel_size=3, stride=1, padding=1,bias=True),\n",
    "#                                         nn.ReLU(inplace=True),\n",
    "#                                         nn.MaxPool2d(kernel_size=3, stride=2),\n",
    "            \n",
    "                                        nn.Dropout(p=0.3),\n",
    "                                        nn.Flatten(),\n",
    "                                        nn.Linear(64*5*5, 128),\n",
    "                                        nn.Linear(128, 64),\n",
    "                                        nn.Linear(64, 32),\n",
    "                                        nn.Linear(32, 5)\n",
    "                                    )\n",
    "        \n",
    "    \n",
    "    def forward(self,x):\n",
    "        return self.network(x)"
   ]
  },
  {
   "cell_type": "code",
   "execution_count": 17,
   "id": "f3020cc5",
   "metadata": {
    "scrolled": true
   },
   "outputs": [
    {
     "name": "stdout",
     "output_type": "stream",
     "text": [
      "device: cpu\n",
      "epoch: 0\n",
      "\t training loss/accuracy: 1.47/46.63\n",
      "\t testing loss/accuracy: 1.39/42.66\n",
      "epoch: 1\n",
      "\t training loss/accuracy: 1.21/46.46\n",
      "\t testing loss/accuracy: 1.18/42.66\n",
      "epoch: 2\n",
      "\t training loss/accuracy: 1.08/50.55\n",
      "\t testing loss/accuracy: 1.09/47.98\n",
      "epoch: 3\n",
      "\t training loss/accuracy: 1.02/48.62\n",
      "\t testing loss/accuracy: 1.06/48.89\n",
      "epoch: 4\n",
      "\t training loss/accuracy: 0.97/54.77\n",
      "\t testing loss/accuracy: 0.98/51.90\n",
      "epoch: 5\n",
      "\t training loss/accuracy: 0.88/54.55\n",
      "\t testing loss/accuracy: 0.83/58.53\n",
      "epoch: 6\n",
      "\t training loss/accuracy: 0.86/60.30\n",
      "\t testing loss/accuracy: 1.01/58.23\n",
      "epoch: 7\n",
      "\t training loss/accuracy: 0.81/58.82\n",
      "\t testing loss/accuracy: 0.82/59.84\n",
      "epoch: 8\n",
      "\t training loss/accuracy: 0.79/60.60\n",
      "\t testing loss/accuracy: 0.92/59.53\n",
      "epoch: 9\n",
      "\t training loss/accuracy: 0.78/59.77\n",
      "\t testing loss/accuracy: 0.83/62.55\n",
      "epoch: 10\n",
      "\t training loss/accuracy: 0.76/63.92\n",
      "\t testing loss/accuracy: 0.88/64.45\n",
      "epoch: 11\n",
      "\t training loss/accuracy: 0.72/63.05\n",
      "\t testing loss/accuracy: 0.82/65.26\n",
      "epoch: 12\n",
      "\t training loss/accuracy: 0.74/66.36\n",
      "\t testing loss/accuracy: 0.90/68.87\n",
      "epoch: 13\n",
      "\t training loss/accuracy: 0.70/69.16\n",
      "\t testing loss/accuracy: 0.80/73.39\n",
      "epoch: 14\n",
      "\t training loss/accuracy: 0.66/69.06\n",
      "\t testing loss/accuracy: 0.77/74.60\n",
      "epoch: 15\n",
      "\t training loss/accuracy: 0.63/72.56\n",
      "\t testing loss/accuracy: 0.86/72.48\n",
      "epoch: 16\n",
      "\t training loss/accuracy: 0.61/73.01\n",
      "\t testing loss/accuracy: 0.81/78.61\n",
      "epoch: 17\n",
      "\t training loss/accuracy: 0.57/77.56\n",
      "\t testing loss/accuracy: 0.77/78.61\n",
      "epoch: 18\n",
      "\t training loss/accuracy: 0.54/75.20\n",
      "\t testing loss/accuracy: 0.73/79.92\n",
      "epoch: 19\n",
      "\t training loss/accuracy: 0.51/79.70\n",
      "\t testing loss/accuracy: 0.65/81.73\n",
      "epoch: 20\n",
      "\t training loss/accuracy: 0.53/78.67\n",
      "\t testing loss/accuracy: 0.63/84.44\n",
      "epoch: 21\n",
      "\t training loss/accuracy: 0.46/80.64\n",
      "\t testing loss/accuracy: 0.62/80.82\n",
      "epoch: 22\n",
      "\t training loss/accuracy: 0.46/80.84\n",
      "\t testing loss/accuracy: 0.75/81.82\n",
      "epoch: 23\n",
      "\t training loss/accuracy: 0.52/74.92\n",
      "\t testing loss/accuracy: 0.89/76.50\n",
      "epoch: 24\n",
      "\t training loss/accuracy: 0.49/79.67\n",
      "\t testing loss/accuracy: 0.58/77.61\n"
     ]
    }
   ],
   "source": [
    "epochs =25\n",
    "learning_rate = 0.001\n",
    "\n",
    "device = \"cpu\"\n",
    "print(f'device: {device}')\n",
    "\n",
    "\n",
    "CNNmodel = ConvolutionNeuralNetwork()\n",
    "CNNmodel.to(device)\n",
    "\n",
    "optimizer = torch.optim.Adam(CNNmodel.parameters(), learning_rate)\n",
    "\n",
    "train_loss_list = []\n",
    "train_acc_list = []\n",
    "\n",
    "test_loss_list = []\n",
    "test_acc_list = []\n",
    "\n",
    "for epoch in range(epochs):\n",
    "    print(f'epoch: {epoch}')\n",
    "    train_loss,train_accuracy = TrainModel(CNNmodel,optimizer,train_dataloader,device)\n",
    "    test_loss , test_accuracy,labels,predict = TestModel(CNNmodel,test_dataloader,device)\n",
    "    train_loss_list.extend(train_loss)\n",
    "    train_acc_list.extend(train_accuracy)\n",
    "    test_loss_list.append(test_loss)\n",
    "    test_acc_list.append(test_accuracy)\n",
    "    \n",
    "    print('\\t training loss/accuracy: {0:.2f}/{1:.2f}'.format(sum(train_loss)/len(train_loss), sum(train_accuracy)/len(train_accuracy)))\n",
    "    print('\\t testing loss/accuracy: {0:.2f}/{1:.2f}'.format(test_loss, test_accuracy))\n",
    "\n",
    "torch.save(CNNmodel, model_path)"
   ]
  },
  {
   "cell_type": "code",
   "execution_count": 18,
   "id": "96f97385",
   "metadata": {},
   "outputs": [
    {
     "data": {
      "text/plain": [
       "<matplotlib.legend.Legend at 0x29577b9a0>"
      ]
     },
     "execution_count": 18,
     "metadata": {},
     "output_type": "execute_result"
    },
    {
     "data": {
      "image/png": "[encoded data removed]",
      "text/plain": [
       "<Figure size 640x480 with 1 Axes>"
      ]
     },
     "metadata": {},
     "output_type": "display_data"
    }
   ],
   "source": [
    "plt.plot([t*100/1509 for t in train_acc_list], label='training accuracy')\n",
    "plt.plot([t*100/500 for t in test_acc_list], label='validation accuracy')\n",
    "plt.title('Accuracy at the end of each epoch')\n",
    "plt.legend()"
   ]
  },
  {
   "cell_type": "code",
   "execution_count": 19,
   "id": "dc10f062",
   "metadata": {},
   "outputs": [
    {
     "name": "stdout",
     "output_type": "stream",
     "text": [
      "                precision    recall  f1-score   support\n",
      "\n",
      "   Images_fire       0.83      0.81      0.82        48\n",
      "Images_neutral       0.84      0.76      0.80        50\n",
      "  Images_smoke       0.62      0.77      0.69        26\n",
      "\n",
      "      accuracy                           0.78       124\n",
      "     macro avg       0.77      0.78      0.77       124\n",
      "  weighted avg       0.79      0.78      0.79       124\n",
      "\n",
      "[[39  4  5]\n",
      " [ 5 38  7]\n",
      " [ 3  3 20]]\n"
     ]
    }
   ],
   "source": [
    "print(classification_report(labels,predict, target_names=class_names))\n",
    "print(confusion_matrix(labels,predict))"
   ]
  },
  {
   "cell_type": "code",
   "execution_count": 20,
   "id": "2bbe1ad8",
   "metadata": {},
   "outputs": [
    {
     "data": {
      "image/png": "[encoded data removed]",
      "text/plain": [
       "<Figure size 640x480 with 2 Axes>"
      ]
     },
     "metadata": {},
     "output_type": "display_data"
    }
   ],
   "source": [
    "cm_train=confusion_matrix(labels,predict)\n",
    "categories=['Images_fire', 'Images_neutral', 'Images_smoke']\n",
    "df_confusion_matrix=pd.DataFrame(cm_train,categories,categories)\n",
    "sn.heatmap(cm_train,cmap=\"Greens\",annot=True)\n",
    "plt.show()\n"
   ]
  },
  {
   "cell_type": "code",
   "execution_count": 21,
   "id": "5a8c092a",
   "metadata": {},
   "outputs": [],
   "source": [
    "gen_model = torch.load(model_path) \n",
    "image = ImageFolder(training_dataset)\n",
    "test_image = FireAndSmaoke(image, test_transform)\n",
    "test_data = DataLoader(test_image, 10)\n",
    "test_loss , test_accuracy,l,p = TestModel(gen_model,test_data,device)"
   ]
  },
  {
   "cell_type": "code",
   "execution_count": 22,
   "id": "4384f536",
   "metadata": {},
   "outputs": [
    {
     "name": "stdout",
     "output_type": "stream",
     "text": [
      "                precision    recall  f1-score   support\n",
      "\n",
      "   Images_fire       0.76      0.89      0.82       163\n",
      "Images_neutral       0.92      0.72      0.81       226\n",
      "  Images_smoke       0.70      0.82      0.75       108\n",
      "\n",
      "      accuracy                           0.80       497\n",
      "     macro avg       0.79      0.81      0.79       497\n",
      "  weighted avg       0.82      0.80      0.80       497\n",
      "\n",
      "[[145   7  11]\n",
      " [ 35 163  28]\n",
      " [ 11   8  89]]\n"
     ]
    }
   ],
   "source": [
    "print(classification_report(l,p, target_names=class_names))\n",
    "print(confusion_matrix(l,p))"
   ]
  },
  {
   "cell_type": "code",
   "execution_count": 23,
   "id": "a3fd3472",
   "metadata": {},
   "outputs": [
    {
     "data": {
      "image/png": "[encoded data removed]",
      "text/plain": [
       "<Figure size 640x480 with 2 Axes>"
      ]
     },
     "metadata": {},
     "output_type": "display_data"
    }
   ],
   "source": [
    "cm_test=confusion_matrix(l,p)\n",
    "categories=['Images_fire', 'Images_neutral', 'Images_smoke']\n",
    "dataframe_confusion_matrix=pd.DataFrame(cm_test,categories,categories)\n",
    "sn.heatmap(dataframe_confusion_matrix,cmap=\"Greens\",annot=True)\n",
    "plt.show()"
   ]
  },
  {
   "cell_type": "code",
   "execution_count": 24,
   "id": "26ee677d",
   "metadata": {},
   "outputs": [
    {
     "name": "stdout",
     "output_type": "stream",
     "text": [
      "The image is classified as: Images_smoke\n"
     ]
    }
   ],
   "source": [
    "def detect_fire_smoke_neutral(model, image_path, transform):\n",
    "    \n",
    "    image = Image.open(image_path)\n",
    "    image = transform(image).unsqueeze(0)  # Add batch dimension\n",
    "\n",
    "    model.eval()  # Set the model to evaluation mode\n",
    "    with torch.no_grad():\n",
    "        outputs = model(image)\n",
    "        _, predicted = torch.max(outputs, 1)\n",
    "\n",
    "    return class_names[predicted[0].item()]\n",
    "\n",
    "# Example usage\n",
    "image_path = '/Users/shalinishah27/Desktop/FinalYearProject/fireandsmoke(final)/Final_Dataset/Images_smoke/7.jpg'  # Replace with your image path\n",
    "label = detect_fire_smoke_neutral(CNNmodel, image_path, test_transform)\n",
    "print(f\"The image is classified as: {label}\")"
   ]
  },
  {
   "cell_type": "code",
   "execution_count": null,
   "id": "fa8c0abd",
   "metadata": {},
   "outputs": [],
   "source": []
  }
 ],
 "metadata": {
  "kernelspec": {
   "display_name": "Python 3 (ipykernel)",
   "language": "python",
   "name": "python3"
  },
  "language_info": {
   "codemirror_mode": {
    "name": "ipython",
    "version": 3
   },
   "file_extension": ".py",
   "mimetype": "text/x-python",
   "name": "python",
   "nbconvert_exporter": "python",
   "pygments_lexer": "ipython3",
   "version": "3.10.13"
  }
 },
 "nbformat": 4,
 "nbformat_minor": 5
}
